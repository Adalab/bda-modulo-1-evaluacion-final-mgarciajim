{
 "cells": [
  {
   "cell_type": "markdown",
   "metadata": {},
   "source": [
    "                     Evalucación Final Módulo 1 \"Python\"\n",
    "                        Mónica García Jiménez"
   ]
  },
  {
   "cell_type": "code",
   "execution_count": 484,
   "metadata": {},
   "outputs": [],
   "source": [
    "# Creamos tres estructuras de datos\n",
    "inventory = []\n",
    "customers = {}\n",
    "total_sales = 0.0"
   ]
  },
  {
   "cell_type": "code",
   "execution_count": 485,
   "metadata": {},
   "outputs": [],
   "source": [
    "\n",
    "inventory.append({'name': 'shirt', 'price': 20, 'quantity': 40})\n",
    "inventory.append({'name': 'pants', 'price': 30, 'quantity': 30})"
   ]
  },
  {
   "cell_type": "code",
   "execution_count": 486,
   "metadata": {},
   "outputs": [],
   "source": [
    "\n",
    "customers['customer1'] = {'email': 'customer1@email.com', 'shopping': []}\n",
    "customers['customer2'] = {'email': 'customer2@email.com', 'shopping': []}\n"
   ]
  },
  {
   "cell_type": "code",
   "execution_count": 487,
   "metadata": {},
   "outputs": [],
   "source": [
    "\n",
    "def agregaadd_products(name, price, quantity = inventory): # Con esta función podemos añadir un producto a nuestro inventario, comprobando si existe.\n",
    " \n",
    "    for product in inventory:# Compruebe si el producto ya existe en la lista.\n",
    "        if product [\"name\"]== name: \n",
    "            print(f\"El producto {name} ya está registrado. Actualizando los datos...\")\n",
    "            product['quantity'] += quantity # Actualizar cantidad si está registrado\n",
    "            return \n",
    "      \n",
    "    new_product = {\"name\" : name, \"price\": price, \"quantity\": quantity}\n",
    "    # Si el producto no está registrado, se crea un diccionario actualizado\n",
    "    inventory.append(new_product)\n",
    "    print(f\"Producto {name} agregado con éxito.\")\n"
   ]
  },
  {
   "cell_type": "code",
   "execution_count": 488,
   "metadata": {},
   "outputs": [
    {
     "name": "stdout",
     "output_type": "stream",
     "text": [
      "Producto socks agregado con éxito.\n",
      "Producto skirts agregado con éxito.\n",
      "El producto shirt ya está registrado. Actualizando los datos...\n",
      "El producto pants ya está registrado. Actualizando los datos...\n"
     ]
    }
   ],
   "source": [
    "# Ejemplo de uso\n",
    "agregaadd_products(\"socks\", 5, 10)\n",
    "agregaadd_products(\"skirts\", 40, 25)\n",
    "agregaadd_products(\"shirt\", 20,  40)\n",
    "agregaadd_products(\"pants\",  30,  30)"
   ]
  },
  {
   "cell_type": "code",
   "execution_count": 490,
   "metadata": {},
   "outputs": [],
   "source": [
    "\n",
    "def view_inventory():# Con la siguiente función mostraremos el inventario\n",
    "    for product in inventory: # Muestra el inventario\n",
    "            if len(inventory) == 0:\n",
    "                print(\"El inventario se encuentra vacio\")\n",
    "            else: # Si no esta vacio, nos muestra los productos mas a fondo\n",
    "                print(f\"product: {product['name']}, price: {product['price']}, quantity: {product['quantity']}\")\n",
    "                \n",
    "\n",
    "\n"
   ]
  },
  {
   "cell_type": "code",
   "execution_count": 492,
   "metadata": {},
   "outputs": [],
   "source": [
    "def search_product(name): # Podemos observar el inventario\n",
    "    for product in inventory:\n",
    "        if product['name'].lower() == name.lower():  # Compara sin importar mayúsculas o minúsculas\n",
    "            print(f\"name: {product['name']}, price: {product['price']}, quantity: {product['quantity']}\")\n",
    "            return product# Sale de la función después de encontrar el producto\n",
    "              \n",
    "    print(f\"El producto '{name}' no está en el inventario.\")  # Mensaje si no se encuentra el producto\n",
    "             \n"
   ]
  },
  {
   "cell_type": "code",
   "execution_count": 493,
   "metadata": {},
   "outputs": [
    {
     "name": "stdout",
     "output_type": "stream",
     "text": [
      "name: shirt, price: 20, quantity: 80\n",
      "name: pants, price: 30, quantity: 60\n",
      "El producto 'glasses' no está en el inventario.\n"
     ]
    }
   ],
   "source": [
    "#Ejemplo de uso\n",
    "search_product(\"shirt\")\n",
    "search_product(\"pants\")\n",
    "search_product(\"glasses\")\n"
   ]
  },
  {
   "cell_type": "code",
   "execution_count": 494,
   "metadata": {},
   "outputs": [],
   "source": [
    "\n",
    "def update_stock(name, quantity):# Con esta función actualizams el stock \n",
    "    \n",
    "    for product in inventory: #recorre el inventario buscando el producto\n",
    "        if product [\"name\"] == name.lower():\n",
    "            \n",
    "            \n",
    "            print(f\"Stock actualizado: {product['name']} ahora tiene {product['quantity']} unidades.\")\n",
    "            return\n",
    "# Verificamos que no se intente establecer una cantidad negativo\n",
    "        \n",
    "    print(f\"El producto '{name}' no está en el inventario.\")\n",
    "            \n"
   ]
  },
  {
   "cell_type": "code",
   "execution_count": 495,
   "metadata": {},
   "outputs": [
    {
     "name": "stdout",
     "output_type": "stream",
     "text": [
      "Stock actualizado: shirt ahora tiene 80 unidades.\n",
      "Stock actualizado: socks ahora tiene 10 unidades.\n",
      "El producto 'glasses' no está en el inventario.\n"
     ]
    }
   ],
   "source": [
    "# Ejemplo de uso\n",
    "update_stock(\"shirt\", 50)\n",
    "update_stock(\"socks\",20)\n",
    "update_stock (\"glasses\", 10)\n"
   ]
  },
  {
   "cell_type": "code",
   "execution_count": 501,
   "metadata": {},
   "outputs": [],
   "source": [
    "def remove_product(name): # Con esta función eliminamos un producto del inventario\n",
    "    \n",
    "    for product in inventory:\n",
    "        if product [\"name\"] == name.lower(): \n",
    "            inventory.pop(product) # Elimina el elemento que le indiquemos\n",
    "            print(f\"Stock actualizado: {product['name']} ahora tiene {product['quantity']} unidades.\")\n",
    "            return\n",
    "\n",
    "    # Verificamos que no se intente establecer una cantidad negativo   \n",
    "    print(f\"El producto '{name}' no se encuentra en el inventario.\")"
   ]
  },
  {
   "cell_type": "code",
   "execution_count": 505,
   "metadata": {},
   "outputs": [
    {
     "name": "stdout",
     "output_type": "stream",
     "text": [
      "El producto 'pants' no se encuentra en el inventario.\n"
     ]
    }
   ],
   "source": [
    "# Llama a la función para comprobar si está en el inventario\n",
    "remove_product(\"pants\")\n"
   ]
  },
  {
   "cell_type": "code",
   "execution_count": 508,
   "metadata": {},
   "outputs": [
    {
     "name": "stdout",
     "output_type": "stream",
     "text": [
      "El valor total del inventario es: 850 euros\n"
     ]
    }
   ],
   "source": [
    "def calculate_value_inventory(): # Con esta función nos permite calcular el valor total del inventario\n",
    "    total_value = 0.0\n",
    "    for product in inventory:\n",
    "        price = product ['price']\n",
    "        quantity = product ['quantity']\n",
    "        total_value += price * quantity # Se calcula el total\n",
    "    return total_value\n",
    "    value_inventory = calculate_value_inventory(inventory)\n",
    "print(f'El valor total del inventario es: {value_inventory} euros')\n",
    "           "
   ]
  },
  {
   "cell_type": "code",
   "execution_count": 509,
   "metadata": {},
   "outputs": [],
   "source": [
    "def make_purchase(): \n",
    "\n",
    "    customer_purchases = [] # Creamos una lista de la compra vacía para el cliente.\n",
    "\n",
    "    cart= {}\n",
    "    while True: # Usamos el bucle While para seguir comprando\n",
    "        view_inventory () #mostrar inventario    \n",
    "        product =input(\"Ingrese el nombre del producto que desea comprar (o 'salir' para finalizar): \").lower()# Pregunta al cliente que producto quiere (por nombre).\n",
    "\n",
    "        if product == 'salir':\n",
    "            break\n",
    "        \n",
    "        if product not in inventory:\n",
    "            print(\"Producto no disponible. Intente nuevamente.\")\n",
    "            continue\n",
    "        \n",
    "        quantity = int(input(f\"Ingrese la cantidad de {product} que desea comprar:\")) # Pregunta la cantidad.\n",
    "         \n",
    "        if quantity > inventory [product][\"quantity\"]: # Comporbamos si tenemos suficiente stock\n",
    "            print(f\"No hay suficiente cantidad de {product}. Disponibles: {inventory[product]['quantity']}.\")\n",
    "            continue\n",
    "         # Actualizar carrito e inventario\n",
    "        if product in cart:\n",
    "            cart[product] += quantity\n",
    "        else:\n",
    "            cart[product] = quantity\n",
    "        \n",
    "        inventory[product][\"quantity\"] -= quantity\n",
    "        print(f\"Agregado {quantity} de {product} al carrito.\")\n",
    "\n",
    "        # Calcular el costo total\n",
    "        total_sales = 0.0\n",
    "        for product in customer_purchases:\n",
    "            total_sales = total_sales + product['price'] * product['quantity']\n",
    "\n",
    "        print(f'Valor total: {total_sales}')\n",
    "        return customer_purchases"
   ]
  },
  {
   "cell_type": "code",
   "execution_count": 510,
   "metadata": {},
   "outputs": [
    {
     "name": "stdout",
     "output_type": "stream",
     "text": [
      "product: shirt, price: 20, quantity: 80\n",
      "product: socks, price: 5, quantity: 10\n",
      "product: skirts, price: 40, quantity: 25\n",
      "Producto no disponible. Intente nuevamente.\n",
      "product: shirt, price: 20, quantity: 80\n",
      "product: socks, price: 5, quantity: 10\n",
      "product: skirts, price: 40, quantity: 25\n",
      "Producto no disponible. Intente nuevamente.\n",
      "product: shirt, price: 20, quantity: 80\n",
      "product: socks, price: 5, quantity: 10\n",
      "product: skirts, price: 40, quantity: 25\n"
     ]
    }
   ],
   "source": [
    "# Llamar a la función\n",
    "make_purchase()"
   ]
  },
  {
   "cell_type": "code",
   "execution_count": 511,
   "metadata": {},
   "outputs": [],
   "source": [
    "\n",
    "def process_payment(): # Con esta función realizamos el proceso de pago\n",
    "    try:\n",
    "        # Solicita la cantidad total de la compra\n",
    "        total_purchase = float(input(\"Ingresa el total de la compra: \"))\n",
    "        \n",
    "        # Solicita la cantidad de pago\n",
    "        payment_amount = float(input(\"Ingresa la cantidad de pago: \"))\n",
    "        \n",
    "        # Calcula el cambio\n",
    "        if payment_amount < total_purchase:\n",
    "            print(\"Error: La cantidad de pago es insuficiente.\")\n",
    "        else:\n",
    "            change = payment_amount - total_purchase\n",
    "            print(f\"Pago exitoso. Su cambio es: {change:.2f}\")\n",
    "    \n",
    "    except ValueError:\n",
    "        print(\"Error: Por favor, ingrese un número válido.\")"
   ]
  },
  {
   "cell_type": "code",
   "execution_count": 512,
   "metadata": {},
   "outputs": [
    {
     "name": "stdout",
     "output_type": "stream",
     "text": [
      "Pago exitoso. Su cambio es: 30.00\n"
     ]
    }
   ],
   "source": [
    "# Llamar a la función para procesar el pago\n",
    "process_payment()"
   ]
  },
  {
   "cell_type": "code",
   "execution_count": 564,
   "metadata": {},
   "outputs": [],
   "source": [
    "customers = []"
   ]
  },
  {
   "cell_type": "code",
   "execution_count": 566,
   "metadata": {},
   "outputs": [],
   "source": [
    "\n",
    "customers = {}\n",
    "\n",
    "def add_customer(name, email):# Esta función nos sirve para agregar un cliente a nuestro diccionario de clientes\n",
    "    \n",
    "    if name in customers:# Verifica si el cliente ya existe\n",
    "        print(\"El cliente ya está registrado.\")\n",
    "    else:\n",
    "        # Agrega el cliente al diccionario\n",
    "        customers[name] = email\n",
    "        print(f\"Cliente agregado: {name} con correo {email}\")\n",
    "        print(f\"Cliente agregado con éxito\")"
   ]
  },
  {
   "cell_type": "code",
   "execution_count": 569,
   "metadata": {},
   "outputs": [
    {
     "data": {
      "text/plain": [
       "{'Monica Garcia': 'monicagar@gmail.com',\n",
       " 'Juan Bonilla': 'juanbm@gmail.com',\n",
       " 'Lorena Garcia': 'lorenagm@gmail.com'}"
      ]
     },
     "execution_count": 569,
     "metadata": {},
     "output_type": "execute_result"
    }
   ],
   "source": [
    "customers"
   ]
  },
  {
   "cell_type": "code",
   "execution_count": 568,
   "metadata": {},
   "outputs": [
    {
     "name": "stdout",
     "output_type": "stream",
     "text": [
      "Cliente agregado: Monica Garcia con correo monicagar@gmail.com\n",
      "Cliente agregado con éxito\n",
      "Cliente agregado: Juan Bonilla con correo juanbm@gmail.com\n",
      "Cliente agregado con éxito\n",
      "Cliente agregado: Lorena Garcia con correo lorenagm@gmail.com\n",
      "Cliente agregado con éxito\n"
     ]
    }
   ],
   "source": [
    "# Ejemplo de uso\n",
    "add_customer(\"Monica Garcia\" , \"monicagar@gmail.com\"),\n",
    "add_customer(\"Juan Bonilla\" , \"juanbm@gmail.com\"),\n",
    "add_customer(\"Lorena Garcia\" , \"lorenagm@gmail.com\") "
   ]
  },
  {
   "cell_type": "code",
   "execution_count": 570,
   "metadata": {},
   "outputs": [],
   "source": [
    "\n",
    "\n",
    "def view_customers(customers): # Con esta función vemos la lista de clietes registrados\n",
    "    # Comprobamos si la lista de clientes tiene algún cliente añadido.\n",
    "    if len(customers) == 0:\n",
    "        print('\\nLa lista de clientes está vacía.')  # La lista está vacía.\n",
    "    else:\n",
    "        # Si no, recorremos la base de datos de clientes.\n",
    "        print(f\"\\nClientes:\")\n",
    "        print(f\"-------------\\n\")\n",
    "        for name, email in customers.items():\n",
    "            print(f\"name: {name}, email: {email}\")  # Imprimimos los detalles del cliente.\n"
   ]
  },
  {
   "cell_type": "code",
   "execution_count": 571,
   "metadata": {},
   "outputs": [
    {
     "name": "stdout",
     "output_type": "stream",
     "text": [
      "\n",
      "Clientes:\n",
      "-------------\n",
      "\n",
      "name: Monica Garcia, email: monicagar@gmail.com\n",
      "name: Juan Bonilla, email: juanbm@gmail.com\n",
      "name: Lorena Garcia, email: lorenagm@gmail.com\n"
     ]
    }
   ],
   "source": [
    "# Mostrar todos los clientes\n",
    "view_customers(customers)"
   ]
  },
  {
   "cell_type": "code",
   "execution_count": 572,
   "metadata": {},
   "outputs": [
    {
     "data": {
      "text/plain": [
       "{'Monica Garcia': 'monicagar@gmail.com',\n",
       " 'Juan Bonilla': 'juanbm@gmail.com',\n",
       " 'Lorena Garcia': 'lorenagm@gmail.com'}"
      ]
     },
     "execution_count": 572,
     "metadata": {},
     "output_type": "execute_result"
    }
   ],
   "source": [
    "customers"
   ]
  },
  {
   "cell_type": "code",
   "execution_count": 573,
   "metadata": {},
   "outputs": [],
   "source": [
    "\n",
    "\n",
    "def register_purchase(name_customer, shopping_cart):# Con la siguiente función, podemos registrar una compra\n",
    "    \n",
    "    if name_customer not in customers: # Verificamos si el cliente está en el diccionario.\n",
    "        print(f\"No se puede realizar la acción porque el cliente '{name_customer}' no está en el diccionario.\")\n",
    "        return\n",
    "    # Calcular el total de la compra\n",
    "    total_purchase = 0\n",
    "    for product in shopping_cart():\n",
    "        total_purchase += product[\"price\"] * product [\"quantity\"]\n",
    "        purchase = {\"products\": shopping_cart,\"total\": total_purchase}\n",
    "    # Actualizar las ventas totales del cliente y de la tienda\n",
    "    customers[name_customer][\"shopping_cart\"].append(purchase)\n",
    "    customers [name_customer][\"total_sales\"] += total_purchase\n",
    "    print(f\"Compra registrada para {name_customer} Total de la compra: €{total_purchase}.\")"
   ]
  },
  {
   "cell_type": "code",
   "execution_count": 574,
   "metadata": {},
   "outputs": [],
   "source": [
    "# Ejemplo de uso\n",
    "cart1 = [{'name': 'shirt', 'price': 20, 'cantidad': 7}, {'name': 'shirt', 'price': 20, 'cantidad': 4}]\n",
    "cart2 = [{'name': 'socks', 'price': 5, 'cantidad': 2}, {'name': 'skirts', 'price': 40, 'cantidad': 8}]"
   ]
  },
  {
   "cell_type": "code",
   "execution_count": 576,
   "metadata": {},
   "outputs": [],
   "source": [
    "register_purchase('Lorena', cart2)"
   ]
  },
  {
   "cell_type": "code",
   "execution_count": 450,
   "metadata": {},
   "outputs": [],
   "source": [
    "def view_customer_purchases(name_customer): # permite ver el historial de compras de un cliente:\n",
    "    \n",
    "    if name_customer in customers:# Verificamos si el cliente existe en el diccionario\n",
    "        shopping = customers[name_customer][\"shopping\"]\n",
    "        if shopping:\n",
    "            print(f\"Historial de compras de {name_customer}:\")\n",
    "            for buy in shopping:\n",
    "                print(f\"- product: {buy['product']}, price: {buy['price']}, \"\n",
    "                      f\"quantity: {buy['quantity']}, total: {buy['total']}\")\n",
    "        else:\n",
    "            print(f\"{name_customer} no ha realizado ninguna compra.\")\n",
    "    else:\n",
    "        print(f\"El cliente {name_customer} no se encuentra en el sistema.\")\n",
    "\n"
   ]
  },
  {
   "cell_type": "code",
   "execution_count": 583,
   "metadata": {},
   "outputs": [],
   "source": [
    "# Esta función calcula el total de las ventas:\n",
    "def calculate_total_sales():\n",
    "    total_sales = 0.0\n",
    "\n",
    "    # Obtenemos el historial de compras.\n",
    "    for name in customers:\n",
    "        total_sales += customers[name]['total_purchase']\n",
    "    \n",
    "    return total_sales"
   ]
  },
  {
   "cell_type": "markdown",
   "metadata": {},
   "source": [
    "## 4.Execution"
   ]
  },
  {
   "cell_type": "code",
   "execution_count": null,
   "metadata": {},
   "outputs": [],
   "source": [
    "# Add products to inventory\n",
    "agregaadd_products('shirt', 20, 40)\n",
    "agregaadd_products('pants', 30, 30)\n",
    "agregaadd_products('pants', 20, 20) \n",
    "agregaadd_products(\"socks\", 5, 10)"
   ]
  },
  {
   "cell_type": "code",
   "execution_count": null,
   "metadata": {},
   "outputs": [],
   "source": [
    "# View inventory\n",
    "print(\"Inventario:\")\n",
    "view_inventory()\n",
    "\n",
    "# Search for a product in inventory\n",
    "search_product(\"shirt\")\n",
    "\n",
    "# Update the stock of a product\n",
    "update_stock(\"shirt\", 50)\n",
    "\n",
    "# Remove a product from inventory\n",
    "remove_product(\"pants\")\n",
    "\n",
    "# Calculate total inventory value\n",
    "calculate_value_inventory()\n",
    "\n",
    "# Make a purchase\n",
    "make_purchase()\n",
    "\n",
    "# Procesar un pago\n",
    "process_payment()\n",
    "\n",
    "# Agregar clientes\n",
    "add_customer(\"Monica Garcia\" , \"monicagar@gmail.com\"),\n",
    "add_customer(\"Juan Bonilla\" , \"juanbm@gmail.com\"),\n",
    "add_customer(\"Lorena Garcia\" , \"lorenagm@gmail.com\")\n",
    "add_customer(\"Monica Garcia\" ,  \"monicagar@gmail.com\")\n",
    "\n",
    "# Ver lista de clientes\n",
    "view_customers()\n",
    "\n",
    "# Registrar una compra para un cliente\n",
    "cart1 = [{'name': 'shirt', 'price': 20, 'cantidad': 7}, {'name': 'shirt', 'price': 20, 'cantidad': 4}]\n",
    "cart2 = [{'name': 'socks', 'price': 5, 'cantidad': 2}, {'name': 'skirts', 'price': 40, 'cantidad': 8}]\n",
    "\n",
    "# Calcular ventas totales de la tienda\n",
    "\n",
    "calculate_total_sales() \n"
   ]
  },
  {
   "cell_type": "markdown",
   "metadata": {},
   "source": [
    "Inventario vacio:\n",
    "\n",
    "El inventario está vacío\n",
    "La lista de clientes esta vacia\n",
    "\n",
    "-----------------------------------------------------------\n",
    "Añadimos productos al inventario y mostramos como se ve:\n",
    "\n",
    "name: shirt, price: 20,  quantity: 80\n",
    "name: pants, price: 30,  quantity: 60\n",
    "name: socks, price:  5,  quantity: 10\n",
    "name: skirts, price: 40, quantity: 25\n",
    "\n",
    "------------------------------------------------------------\n",
    "Buscamos el producto:\n",
    "\n",
    "name: shirt, price: 20, quantity: 80\n",
    "name: pants, price: 30, quantity: 60\n",
    "El producto 'glasses' no está en el inventario.\n",
    "\n",
    "------------------------------------------------------------\n",
    "Actualizamos el stock:\n",
    "\n",
    "Stock actualizado: shirt ahora tiene 40 unidades.\n",
    "Stock actualizado: socks ahora tiene 10 unidades.\n",
    "El producto 'glasses' no está en el inventario.\n",
    "\n",
    "------------------------------------------------------------\n",
    "Eliminamos un producto:\n",
    "\n",
    "El producto 'pants' no se encuentra en el inventario.\n",
    "\n",
    "------------------------------------------------------------\n",
    "Calcular el valor del inventario:\n",
    "\n",
    "El valor total del inventario es: 850 euros\n",
    "\n",
    "------------------------------------------------------------\n",
    "Clientes:\n",
    "Resumen compra:\n",
    "Pago exitoso. Su cambio es: 30.00\n",
    "Cliente agregado: Monica Garcia con correo monicagar@gmail.com\n",
    "Cliente agregado con éxito\n",
    "Cliente agregado: Juan Bonilla con correo juanbm@gmail.com\n",
    "Cliente agregado con éxito\n",
    "Cliente agregado: Lorena Garcia con correo lorenagm@gmail.com\n",
    "Cliente agregado con éxito\n",
    "El cliente no se encuentra en el diccionario\n"
   ]
  }
 ],
 "metadata": {
  "kernelspec": {
   "display_name": "base",
   "language": "python",
   "name": "python3"
  },
  "language_info": {
   "codemirror_mode": {
    "name": "ipython",
    "version": 3
   },
   "file_extension": ".py",
   "mimetype": "text/x-python",
   "name": "python",
   "nbconvert_exporter": "python",
   "pygments_lexer": "ipython3",
   "version": "3.12.4"
  }
 },
 "nbformat": 4,
 "nbformat_minor": 2
}

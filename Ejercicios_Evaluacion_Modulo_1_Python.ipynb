{
 "cells": [
  {
   "cell_type": "markdown",
   "metadata": {},
   "source": [
    "## 1. `inventario` (lista de diccionarios): Una estructura para almacenar los productos en el inventario. Cada producto debe ser representado como un diccionario con las siguientes claves: `'nombre'`, `'precio'`, y `'cantidad'`. Al principio deberá ser una lista vacía. Ejemplo de como debería ser: \n",
    " \n",
    "  ```python \n",
    "      [{'nombre': 'Camisa', 'precio': 20, 'cantidad': 40}, \n",
    "      {'nombre': 'Pantalón', 'precio': 30, 'cantidad': 30}] \n",
    "      ``` "
   ]
  },
  {
   "cell_type": "code",
   "execution_count": 1,
   "metadata": {},
   "outputs": [],
   "source": [
    "# Creamos una lista vacía \n",
    "# Dentro de ella, introduciremos cada producto como diccionarios, en el cual introducimos las siguientes claves(keys): nombre, precio y cantidad\n",
    "inventario = []"
   ]
  },
  {
   "cell_type": "markdown",
   "metadata": {},
   "source": [
    "## 2. `clientes` (diccionario): Una estructura para llevar un registro de los clientes de la tienda. Cada cliente debe ser representado como un diccionario con las siguientes claves: `'nombre'` y `'email'`. Al inicio deberá ser un diccionario vacío. Además, cada cliente debe tener un historial de compras. Deberá parecerse a: \n",
    " \n",
    "   ```python \n",
    "      {'Cliente1': {'email': 'cliente1@email.com', 'compras': []}, \n",
    "      'Cliente2': {'email': 'cliente2@email.com', 'compras': []}} "
   ]
  },
  {
   "cell_type": "code",
   "execution_count": 2,
   "metadata": {},
   "outputs": [],
   "source": [
    "# Creamos un diccionario vacío para ir poco a poco almacenando a los clientes. \n",
    "# Cada cliente tendrá las siguientes claves(keys): nombre,  email e historial de compras.\n",
    "clientes = {}"
   ]
  },
  {
   "cell_type": "markdown",
   "metadata": {},
   "source": [
    "## 3. `ventas_totales` (float): Una variable para llevar un registro de las ventas totales de la tienda. Inicializalo con valor 0."
   ]
  },
  {
   "cell_type": "code",
   "execution_count": 3,
   "metadata": {},
   "outputs": [],
   "source": [
    "\n",
    "# El índice tiene que tener un valor 0, así, podemos sumar las ventas_totales que vamos a ir haciendo a lo largo del ejercicio\n",
    "\n",
    "ventas_totales = 0"
   ]
  },
  {
   "cell_type": "markdown",
   "metadata": {},
   "source": [
    "## A lo largo de esta evaluación tendrás que crear una serie de funciones que cumplan con los siguientes requisitos:\n"
   ]
  },
  {
   "cell_type": "markdown",
   "metadata": {},
   "source": [
    "## 1. `agregar_producto(nombre, precio, cantidad)`: Esta función agrega un producto al inventario o actualiza su cantidad si ya existe. Debe recibir el nombre, precio y cantidad del producto como parámetros.  \n",
    " \n",
    "    - Itera a través del inventario y compara los nombres de los productos con el nombre proporcionado. \n",
    "    - Si el producto ya existe, actualiza la cantidad. \n",
    "    - Si no existe, agrega un nuevo producto al inventario. \n"
   ]
  },
  {
   "cell_type": "code",
   "execution_count": 21,
   "metadata": {},
   "outputs": [
    {
     "name": "stdout",
     "output_type": "stream",
     "text": [
      "El producto Pantalón ya está registrado. Actualizando los datos...\n",
      "[{'nombre': 'Camisa', 'precio': 20, 'cantidad': 40}, {'nombre': 'Pantalón', 'precio': 30, 'cantidad': 50}]\n"
     ]
    }
   ],
   "source": [
    "# Se inicia con una lista vacia\n",
    "inventario = []\n",
    "# Creamos una funcion que recorra la lista, tomando tres parámetros por defecto(nombre, precio, cantidad = inventario(parámetros por defecto)\n",
    "def agregar_producto(nombre, precio, cantidad = inventario): \n",
    "\n",
    "    # Vamos a iterar a través del inventario \n",
    "    for producto in inventario:\n",
    "        if producto [\"nombre\"]== nombre: # Busca los datos que están registrados, si son el mismo elemento(producto), los actualiza\n",
    "            print(f\"El producto {nombre} ya está registrado. Actualizando los datos...\")\n",
    "            producto['cantidad'] += cantidad # Actualiza la cantidad si está registrada, almacenandolo en la misma variable, el valor que tenía la variable, se suma)\n",
    "            return inventario\n",
    "        \n",
    "    # Si el producto no está registrado, se crea un diccionario actualizado, es decir, lo agraga a la lista.    \n",
    "    nuevo_producto = {\"nombre\" : nombre, \"precio\": precio, \"cantidad\": cantidad}\n",
    "    inventario.append(nuevo_producto)\n",
    "\n",
    "# En el inventario, tenemos que ir añadiendo los elementos(productos) y los imprimimos\n",
    "agregar_producto('Camisa', 20, 40)\n",
    "agregar_producto('Pantalón', 30, 30)\n",
    "agregar_producto('Pantalón', 20, 20) # Actualiza la cantidad de pantalones\n",
    "\n",
    "# Imprimimos el inventario para actualizar dicha lista\n",
    "print(inventario)\n",
    "    \n",
    "\n",
    "            \n",
    "\n",
    "\n"
   ]
  },
  {
   "cell_type": "code",
   "execution_count": null,
   "metadata": {},
   "outputs": [],
   "source": [
    "## Al ejecutar este código, verás que la cantidad de \"Camisa\" se actualiza correctamente cuando se vuelve a agregar"
   ]
  }
 ],
 "metadata": {
  "kernelspec": {
   "display_name": "base",
   "language": "python",
   "name": "python3"
  },
  "language_info": {
   "codemirror_mode": {
    "name": "ipython",
    "version": 3
   },
   "file_extension": ".py",
   "mimetype": "text/x-python",
   "name": "python",
   "nbconvert_exporter": "python",
   "pygments_lexer": "ipython3",
   "version": "3.12.4"
  }
 },
 "nbformat": 4,
 "nbformat_minor": 2
}
